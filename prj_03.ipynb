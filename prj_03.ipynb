{
 "cells": [
  {
   "cell_type": "markdown",
   "id": "ab769d31",
   "metadata": {},
   "source": [
    "###네이버 금융 메인화면 실시간 검색순위 데이터 가져오기\n"
   ]
  },
  {
   "cell_type": "code",
   "execution_count": 5,
   "id": "a9054c2e",
   "metadata": {},
   "outputs": [
    {
     "name": "stdout",
     "output_type": "stream",
     "text": [
      "Requirement already satisfied: beautifulsoup4 in c:\\users\\notebiz6345\\appdata\\local\\programs\\python\\python313\\lib\\site-packages (4.13.5)\n",
      "Requirement already satisfied: soupsieve>1.2 in c:\\users\\notebiz6345\\appdata\\local\\programs\\python\\python313\\lib\\site-packages (from beautifulsoup4) (2.7)\n",
      "Requirement already satisfied: typing-extensions>=4.0.0 in c:\\users\\notebiz6345\\appdata\\local\\programs\\python\\python313\\lib\\site-packages (from beautifulsoup4) (4.14.1)\n"
     ]
    },
    {
     "name": "stderr",
     "output_type": "stream",
     "text": [
      "\n",
      "[notice] A new release of pip is available: 25.1.1 -> 25.2\n",
      "[notice] To update, run: python.exe -m pip install --upgrade pip\n"
     ]
    },
    {
     "name": "stdout",
     "output_type": "stream",
     "text": [
      "Collecting openpyxl\n",
      "  Downloading openpyxl-3.1.5-py2.py3-none-any.whl.metadata (2.5 kB)\n",
      "Collecting et-xmlfile (from openpyxl)\n",
      "  Downloading et_xmlfile-2.0.0-py3-none-any.whl.metadata (2.7 kB)\n",
      "Downloading openpyxl-3.1.5-py2.py3-none-any.whl (250 kB)\n",
      "Downloading et_xmlfile-2.0.0-py3-none-any.whl (18 kB)\n",
      "Installing collected packages: et-xmlfile, openpyxl\n",
      "\n",
      "   -------------------- ------------------- 1/2 [openpyxl]\n",
      "   -------------------- ------------------- 1/2 [openpyxl]\n",
      "   -------------------- ------------------- 1/2 [openpyxl]\n",
      "   -------------------- ------------------- 1/2 [openpyxl]\n",
      "   -------------------- ------------------- 1/2 [openpyxl]\n",
      "   -------------------- ------------------- 1/2 [openpyxl]\n",
      "   -------------------- ------------------- 1/2 [openpyxl]\n",
      "   -------------------- ------------------- 1/2 [openpyxl]\n",
      "   -------------------- ------------------- 1/2 [openpyxl]\n",
      "   -------------------- ------------------- 1/2 [openpyxl]\n",
      "   -------------------- ------------------- 1/2 [openpyxl]\n",
      "   -------------------- ------------------- 1/2 [openpyxl]\n",
      "   -------------------- ------------------- 1/2 [openpyxl]\n",
      "   ---------------------------------------- 2/2 [openpyxl]\n",
      "\n",
      "Successfully installed et-xmlfile-2.0.0 openpyxl-3.1.5\n"
     ]
    },
    {
     "name": "stderr",
     "output_type": "stream",
     "text": [
      "\n",
      "[notice] A new release of pip is available: 25.1.1 -> 25.2\n",
      "[notice] To update, run: python.exe -m pip install --upgrade pip\n"
     ]
    }
   ],
   "source": [
    "#뷰티풀패키지 설치\n",
    "!pip install beautifulsoup4\n",
    "!pip install openpyxl"
   ]
  },
  {
   "cell_type": "code",
   "execution_count": 17,
   "id": "f66d54b3",
   "metadata": {},
   "outputs": [
    {
     "name": "stdout",
     "output_type": "stream",
     "text": [
      "엑셀파일이 저장되었습니다.연습.xlsx\n"
     ]
    }
   ],
   "source": [
    "\n",
    "import requests\n",
    "from bs4 import BeautifulSoup\n",
    "from openpyxl import Workbook\n",
    "\n",
    "url = 'https://finance.naver.com/'\n",
    "response = requests.get(url)\n",
    "response.raise_for_status()\n",
    "html = response.text\n",
    "soup = BeautifulSoup(html, 'html.parser')\n",
    "tbody = soup.select_one('#container > div.aside > div.group_aside > div.aside_area.aside_popular > table > tbody')\n",
    "\n",
    "\n",
    "#예시 추출 디버깅\n",
    "#print(tbody)\n",
    "\n",
    "trs = tbody.select('tr')\n",
    "datas =[]\n",
    "\n",
    "for tr in trs:\n",
    "    name = tr.select_one('th >a').get_text()\n",
    "    current_price = tr.select_one('td').get_text()\n",
    "    change_direction = tr['class'][0]\n",
    "    change_price = tr.select_one('td > span').get_text()\n",
    "    datas.append([name, current_price, change_direction, change_price])\n",
    "\n",
    "#엑셀에 저장\n",
    "write_wb = Workbook()\n",
    "write_ws = write_wb.create_sheet('결과')\n",
    "\n",
    "#엑셀에 데이터추가\n",
    "for data in datas:\n",
    "    write_ws.append(data)\n",
    "\n",
    "#엑셀파일을 저장\n",
    "#write_wb.save(r'스크래핑연습.xlsx') \n",
    "file_path = r'연습.xlsx'\n",
    "write_wb.save(file_path)\n",
    "\n",
    "print(f'엑셀파일이 저장되었습니다.{file_path}')"
   ]
  },
  {
   "cell_type": "code",
   "execution_count": null,
   "id": "4f937420",
   "metadata": {},
   "outputs": [],
   "source": [
    "\n"
   ]
  }
 ],
 "metadata": {
  "kernelspec": {
   "display_name": "Python 3",
   "language": "python",
   "name": "python3"
  },
  "language_info": {
   "codemirror_mode": {
    "name": "ipython",
    "version": 3
   },
   "file_extension": ".py",
   "mimetype": "text/x-python",
   "name": "python",
   "nbconvert_exporter": "python",
   "pygments_lexer": "ipython3",
   "version": "3.13.5"
  }
 },
 "nbformat": 4,
 "nbformat_minor": 5
}
